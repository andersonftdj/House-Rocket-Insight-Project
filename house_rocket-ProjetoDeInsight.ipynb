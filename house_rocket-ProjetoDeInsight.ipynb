{
 "cells": [
  {
   "cell_type": "markdown",
   "id": "d13663e3",
   "metadata": {},
   "source": [
    "# House Rocket - Projeto de Insights\n",
    "\n",
    " - Empresa: **House Rocket**\n",
    " - Modelo de negócio: **Comprar imóveis por um preço mais baixo e que tenham um alto potencial de revenda**\n",
    " - Desafio: **Encontrar bons negócios dentro do portfólio disponível: Casas com preço baixo, em ótima localização e com alto potêncial de revenda por um preço mais alto**"
   ]
  },
  {
   "cell_type": "markdown",
   "id": "c918de21",
   "metadata": {},
   "source": [
    "## 1. Questão de negócio\n",
    "  1. Quais são os imóveis que a House Rocket deveria comprar e por qual preço?\n",
    "\n",
    "  2. Uma vez o imóvel comprado, qual o melhor momento para vendê-lo e por qual preço?\n",
    "  \n",
    "\n",
    "## 2 Entendimento do negócio\n",
    "### 2.2.1 Produto Final\n",
    "    Será entregue 2 relatórios\n",
    "        - Relatório com a sugestão de compra ou não compra de um imóvel\n",
    "        - Relatório com sugestões de vendas por um valor recomendado\n",
    "\n",
    "### 2.2.2 Ferramentas\n",
    "    - Python 3.8.1\n",
    "    - Jupyter Notebook\n",
    "    \n",
    "### 2.2.3 Processo\n",
    "    - Recomendação de compra de imóveis\n",
    "        - Coletar os dados\n",
    "        - Agrupar os imóveis por zipcode e obter a mediana por região.\n",
    "        - Comparar o valor do imóvel com a mediana, se for a baixo e a condição do imóvel for boa 3 recomendar\n",
    "        Saída sugerida:\n",
    "            ID | zipcode| price | price_median_region| condition | recomendation \n",
    "        \n",
    "    - Recomendação de venda\n",
    "        - Coletar os dados\n",
    "        - Agrupar os imóveis por região e obter a mediana\n",
    "        - Criar uma feature para a estação do ano\n",
    "        - Agrupar os imóveis por região e estação e obter a mediana\n",
    "        - Caso o preço do imóvel seja menor que a mediana da região  e menor que a mediana da estação, recomendar um preço de +30% \n",
    "                *Motivo: Preço a baixo do praticado no mercado, Ainda há uma margem para se explorar\n",
    "                \n",
    "        - Caso o preço do imóvel seja maior que a mediana da região e maior que a mediana da estação, recomendar um preço de +10%\n",
    "                *Motivo: Recomendar um pequeno aumento no valor, pois já está acima da média.\n",
    "            \n",
    "        Saída sugerida:\n",
    "    id | zipcode | season | price | price_median_region | price_median_season | price_sell_recommendation |profit"
   ]
  },
  {
   "cell_type": "markdown",
   "id": "f9b71227",
   "metadata": {},
   "source": [
    "## 3. Coleta de dados"
   ]
  },
  {
   "cell_type": "code",
   "execution_count": 1,
   "id": "0670a0a6",
   "metadata": {},
   "outputs": [],
   "source": [
    "import pandas as pd\n",
    "import seaborn as sns\n",
    "import matplotlib.pyplot as plt\n",
    "\n",
    "pd.set_option('display.float_format', lambda x: '%.2f' % x)\n",
    "\n"
   ]
  },
  {
   "cell_type": "code",
   "execution_count": 2,
   "id": "b74bd194",
   "metadata": {},
   "outputs": [],
   "source": [
    "path = 'kc_house_data.csv'\n",
    "data = pd.read_csv(path)\n",
    "data_copy = data.copy()"
   ]
  },
  {
   "cell_type": "markdown",
   "id": "d1611711",
   "metadata": {},
   "source": [
    "## 4. Limpeza de dados"
   ]
  },
  {
   "cell_type": "code",
   "execution_count": 3,
   "id": "cb394623",
   "metadata": {},
   "outputs": [
    {
     "data": {
      "text/plain": [
       "(21613, 21)"
      ]
     },
     "execution_count": 3,
     "metadata": {},
     "output_type": "execute_result"
    }
   ],
   "source": [
    "data.shape"
   ]
  },
  {
   "cell_type": "code",
   "execution_count": 4,
   "id": "c32ffca1",
   "metadata": {},
   "outputs": [
    {
     "name": "stdout",
     "output_type": "stream",
     "text": [
      "<class 'pandas.core.frame.DataFrame'>\n",
      "RangeIndex: 21613 entries, 0 to 21612\n",
      "Data columns (total 21 columns):\n",
      " #   Column         Non-Null Count  Dtype  \n",
      "---  ------         --------------  -----  \n",
      " 0   id             21613 non-null  int64  \n",
      " 1   date           21613 non-null  object \n",
      " 2   price          21613 non-null  float64\n",
      " 3   bedrooms       21613 non-null  int64  \n",
      " 4   bathrooms      21613 non-null  float64\n",
      " 5   sqft_living    21613 non-null  int64  \n",
      " 6   sqft_lot       21613 non-null  int64  \n",
      " 7   floors         21613 non-null  float64\n",
      " 8   waterfront     21613 non-null  int64  \n",
      " 9   view           21613 non-null  int64  \n",
      " 10  condition      21613 non-null  int64  \n",
      " 11  grade          21613 non-null  int64  \n",
      " 12  sqft_above     21613 non-null  int64  \n",
      " 13  sqft_basement  21613 non-null  int64  \n",
      " 14  yr_built       21613 non-null  int64  \n",
      " 15  yr_renovated   21613 non-null  int64  \n",
      " 16  zipcode        21613 non-null  int64  \n",
      " 17  lat            21613 non-null  float64\n",
      " 18  long           21613 non-null  float64\n",
      " 19  sqft_living15  21613 non-null  int64  \n",
      " 20  sqft_lot15     21613 non-null  int64  \n",
      "dtypes: float64(5), int64(15), object(1)\n",
      "memory usage: 3.5+ MB\n"
     ]
    }
   ],
   "source": [
    "data.info()"
   ]
  },
  {
   "cell_type": "code",
   "execution_count": 5,
   "id": "948fceac",
   "metadata": {},
   "outputs": [],
   "source": [
    "# removendo valore duplicados\n",
    "data.drop_duplicates('id', inplace=True)"
   ]
  },
  {
   "cell_type": "markdown",
   "id": "ef06b4d7",
   "metadata": {},
   "source": [
    "### Transformação dos dados"
   ]
  },
  {
   "cell_type": "code",
   "execution_count": 6,
   "id": "ec90609f",
   "metadata": {},
   "outputs": [],
   "source": [
    "# Data Transformation\n",
    "data['date'] = pd.to_datetime(data['date'], format=\"%Y-%m-%d\")"
   ]
  },
  {
   "cell_type": "markdown",
   "id": "c5e69cdb",
   "metadata": {},
   "source": [
    "## 5. Exploração de Dados"
   ]
  },
  {
   "cell_type": "markdown",
   "id": "2be54a5b",
   "metadata": {},
   "source": [
    "#### Recomendação de compra"
   ]
  },
  {
   "cell_type": "code",
   "execution_count": 7,
   "id": "df925ade",
   "metadata": {},
   "outputs": [],
   "source": [
    "# agrupando dados pelo zipcode para obter a mediana\n",
    "region_price = data[['zipcode', 'price']].groupby('zipcode').median().reset_index()\n",
    "\n",
    "# renomeando as colunas para facilitar o entendimento da coluna\n",
    "region_price.columns = ['zipcode', 'price_median_region']\n",
    "\n",
    "# juntando os dados \n",
    "data = pd.merge(data, region_price, on='zipcode', how='inner')\n",
    "\n",
    "# função para definir a recomendação\n",
    "def recomendacao( data ):\n",
    "    if ( data['price'] < data['price_median_region'] ) & ( data['condition'] >= 4 ):\n",
    "        return 'Buy'\n",
    "    else:\n",
    "        return 'Not Buy'\n",
    "    \n",
    "# aplicando a função\n",
    "data['recommendation'] = data.apply( recomendacao, axis=1)\n",
    "\n",
    "# separando as informações requisitadas\n",
    "suggested_buy = data.loc[ data.recommendation == 'Buy', ['id', 'zipcode', 'condition', 'price_median_region', 'price', 'recommendation']].copy()\n",
    "\n",
    "# Exportando relatório para csv\n",
    "suggested_buy.to_csv('suggested_buy.csv')"
   ]
  },
  {
   "cell_type": "code",
   "execution_count": 8,
   "id": "53b4b542",
   "metadata": {},
   "outputs": [
    {
     "data": {
      "text/plain": [
       "(3777,)"
      ]
     },
     "execution_count": 8,
     "metadata": {},
     "output_type": "execute_result"
    }
   ],
   "source": [
    "suggested_buy.condition.shape"
   ]
  },
  {
   "cell_type": "markdown",
   "id": "5973eb06",
   "metadata": {},
   "source": [
    "___"
   ]
  },
  {
   "cell_type": "markdown",
   "id": "a6759f1f",
   "metadata": {},
   "source": [
    "#### Recomendação de Venda"
   ]
  },
  {
   "cell_type": "code",
   "execution_count": 9,
   "id": "e0c746cb",
   "metadata": {},
   "outputs": [],
   "source": [
    "# função para definir a estação do ano\n",
    "def season( data ):\n",
    "    month = int( data['date'].month )\n",
    "    summer = [6, 7, 8]\n",
    "    winter = [12, 1, 2]\n",
    "    spring = [3, 4, 5]\n",
    "\n",
    "    if month  in summer:\n",
    "        return 'summer'\n",
    "    elif month in winter: \n",
    "        return 'winter'\n",
    "    elif month in spring:\n",
    "        return 'spring'\n",
    "    else:\n",
    "        return 'fall'\n",
    "    \n",
    "# aplicando a função\n",
    "data['season'] =  data.apply( season, axis=1)"
   ]
  },
  {
   "cell_type": "code",
   "execution_count": 10,
   "id": "d90f7325",
   "metadata": {},
   "outputs": [],
   "source": [
    "# Agrupando por região e por estação para obter a mediana\n",
    "region_season_price = data[['zipcode', 'price', 'season']].groupby(['zipcode', 'season']).median().reset_index()\n",
    "\n",
    "# renomeando as funções para facilitar o entendimento da nova coluna\n",
    "region_season_price.columns = ['zipcode', 'season', 'price_median_season']\n",
    "\n",
    "# juntando os dados\n",
    "data = pd.merge(data, region_season_price, on=['zipcode', 'season'], how='left')"
   ]
  },
  {
   "cell_type": "code",
   "execution_count": 11,
   "id": "a7e2ef62",
   "metadata": {
    "scrolled": true
   },
   "outputs": [],
   "source": [
    "# função de recomendacao com base nos critérios estabelecidos\n",
    "def recommendation_price( data ):\n",
    "    if (data['price'] < data['price_median_region']) & (data['price'] < data['price_median_season']):\n",
    "        return round( data['price'] * 1.3, 1 )\n",
    "    \n",
    "    elif (data['price'] > data['price_median_region']) & (data['price'] > data['price_median_season']): \n",
    "        return round( data['price'] * 1.1 , 1 )\n",
    "        \n",
    "    else:\n",
    "        return round( data['price'] * 1.5, 1 )\n",
    "\n",
    "# aplicação da função\n",
    "data['recommendation_price'] = data.apply( recommendation_price, axis=1)\n",
    "\n",
    "# calculando o lucro\n",
    "data['profit'] =  round( data.recommendation_price - data.price, 1)"
   ]
  },
  {
   "cell_type": "code",
   "execution_count": 12,
   "id": "43211a25",
   "metadata": {},
   "outputs": [],
   "source": [
    "# separando as informações requisitadas\n",
    "suggested_sell = data.loc[ data.recommendation == 'Buy', ['id', 'zipcode', 'season','price_median_region',\n",
    "                                                          'price_median_season', 'price',\n",
    "                                                          'recommendation_price', 'profit']].copy()\n",
    "\n",
    "# salvando o relatório\n",
    "suggested_sell.to_csv('suggested_sell.csv')"
   ]
  },
  {
   "cell_type": "code",
   "execution_count": 13,
   "id": "99ace81f",
   "metadata": {},
   "outputs": [
    {
     "data": {
      "text/html": [
       "<div>\n",
       "<style scoped>\n",
       "    .dataframe tbody tr th:only-of-type {\n",
       "        vertical-align: middle;\n",
       "    }\n",
       "\n",
       "    .dataframe tbody tr th {\n",
       "        vertical-align: top;\n",
       "    }\n",
       "\n",
       "    .dataframe thead th {\n",
       "        text-align: right;\n",
       "    }\n",
       "</style>\n",
       "<table border=\"1\" class=\"dataframe\">\n",
       "  <thead>\n",
       "    <tr style=\"text-align: right;\">\n",
       "      <th></th>\n",
       "      <th>id</th>\n",
       "      <th>zipcode</th>\n",
       "      <th>season</th>\n",
       "      <th>price_median_region</th>\n",
       "      <th>price_median_season</th>\n",
       "      <th>price</th>\n",
       "      <th>recommendation_price</th>\n",
       "      <th>profit</th>\n",
       "    </tr>\n",
       "  </thead>\n",
       "  <tbody>\n",
       "    <tr>\n",
       "      <th>1</th>\n",
       "      <td>4060000240</td>\n",
       "      <td>98178</td>\n",
       "      <td>summer</td>\n",
       "      <td>279000.00</td>\n",
       "      <td>265475.00</td>\n",
       "      <td>205425.00</td>\n",
       "      <td>267052.50</td>\n",
       "      <td>61627.50</td>\n",
       "    </tr>\n",
       "    <tr>\n",
       "      <th>10</th>\n",
       "      <td>561000075</td>\n",
       "      <td>98178</td>\n",
       "      <td>winter</td>\n",
       "      <td>279000.00</td>\n",
       "      <td>275000.00</td>\n",
       "      <td>260000.00</td>\n",
       "      <td>338000.00</td>\n",
       "      <td>78000.00</td>\n",
       "    </tr>\n",
       "    <tr>\n",
       "      <th>19</th>\n",
       "      <td>3352402236</td>\n",
       "      <td>98178</td>\n",
       "      <td>winter</td>\n",
       "      <td>279000.00</td>\n",
       "      <td>275000.00</td>\n",
       "      <td>252500.00</td>\n",
       "      <td>328250.00</td>\n",
       "      <td>75750.00</td>\n",
       "    </tr>\n",
       "    <tr>\n",
       "      <th>27</th>\n",
       "      <td>185000118</td>\n",
       "      <td>98178</td>\n",
       "      <td>winter</td>\n",
       "      <td>279000.00</td>\n",
       "      <td>275000.00</td>\n",
       "      <td>212000.00</td>\n",
       "      <td>275600.00</td>\n",
       "      <td>63600.00</td>\n",
       "    </tr>\n",
       "    <tr>\n",
       "      <th>35</th>\n",
       "      <td>3810000465</td>\n",
       "      <td>98178</td>\n",
       "      <td>spring</td>\n",
       "      <td>279000.00</td>\n",
       "      <td>287500.00</td>\n",
       "      <td>243000.00</td>\n",
       "      <td>315900.00</td>\n",
       "      <td>72900.00</td>\n",
       "    </tr>\n",
       "  </tbody>\n",
       "</table>\n",
       "</div>"
      ],
      "text/plain": [
       "            id  zipcode  season  price_median_region  price_median_season  \\\n",
       "1   4060000240    98178  summer            279000.00            265475.00   \n",
       "10   561000075    98178  winter            279000.00            275000.00   \n",
       "19  3352402236    98178  winter            279000.00            275000.00   \n",
       "27   185000118    98178  winter            279000.00            275000.00   \n",
       "35  3810000465    98178  spring            279000.00            287500.00   \n",
       "\n",
       "       price  recommendation_price   profit  \n",
       "1  205425.00             267052.50 61627.50  \n",
       "10 260000.00             338000.00 78000.00  \n",
       "19 252500.00             328250.00 75750.00  \n",
       "27 212000.00             275600.00 63600.00  \n",
       "35 243000.00             315900.00 72900.00  "
      ]
     },
     "execution_count": 13,
     "metadata": {},
     "output_type": "execute_result"
    }
   ],
   "source": [
    "suggested_sell.head()"
   ]
  },
  {
   "cell_type": "code",
   "execution_count": 14,
   "id": "f20255b8",
   "metadata": {},
   "outputs": [],
   "source": [
    "lucro_potencial = suggested_sell.profit.sum()"
   ]
  },
  {
   "cell_type": "code",
   "execution_count": 15,
   "id": "6c1a8c9a",
   "metadata": {},
   "outputs": [
    {
     "data": {
      "text/plain": [
       "463628964.9"
      ]
     },
     "execution_count": 15,
     "metadata": {},
     "output_type": "execute_result"
    }
   ],
   "source": [
    "lucro_potencial"
   ]
  },
  {
   "cell_type": "markdown",
   "id": "6738a7fa",
   "metadata": {},
   "source": [
    "## 4.EDA\n",
    "\n",
    "Hipóteses que serão testadas:\n",
    "\n",
    "**H1: Imóveis que possuem vista para água, são 30% mais caros, na média.**\n",
    "\n",
    "**H2: Imóveis com data de construção menor que 1955, são 50% mais baratos, na média.**\n",
    "\n",
    "**H3: Imóveis sem porão possuem área total (srqf_lot) são 40% maiores do que os imóveis com porão.**\n",
    "\n",
    "**H4: O crescimento do preço dos imóveis YoY (Year over Year- Ano a Ano) é de 10%**\n",
    "\n",
    "**H5: Imóveis com 3 banheiros tem um crescimento de MoM( Month over Month) de 15%**\n",
    "\n",
    "**H6: Inverno é a estação do ano em que a média de vendas é maior**\n",
    "\n",
    "**H7: Imóveis não reformados são 10% mais baratos do que a média dos imóveis reformados por região.**\n",
    "\n",
    "**H8: Imóveis com 3 banheiros ou mais são 20% mais caros do que imóveis com menos que 3 banheiros**\n",
    "\n",
    "**H9: Imóveis com 3 quartos ou mais são 40% mais caros do que imóveis com menos que 3 quartos**"
   ]
  },
  {
   "cell_type": "markdown",
   "id": "10f443c1",
   "metadata": {},
   "source": [
    "### **H1: Imóveis que possuem vista para água, são 30% mais caros, na média.**\n",
    ">\n",
    "> Falso, imóveis com vista para água são bem mais valorizados que 30%, **em média 212% mais caros.**\n"
   ]
  },
  {
   "cell_type": "code",
   "execution_count": 16,
   "id": "b1c67c9e",
   "metadata": {},
   "outputs": [
    {
     "name": "stdout",
     "output_type": "stream",
     "text": [
      "Imóveis com vista para o mar são  212.42% mais caro que a média\n"
     ]
    },
    {
     "data": {
      "image/png": "[encoded data removed]",
      "text/plain": [
       "<Figure size 432x288 with 1 Axes>"
      ]
     },
     "metadata": {
      "needs_background": "light"
     },
     "output_type": "display_data"
    }
   ],
   "source": [
    "# media com o sem vista para o mar\n",
    "mean_water_view    = data.loc[ data.waterfront == 1, 'price'].mean()\n",
    "mean_no_water_view = data.loc[ data.waterfront == 0, 'price'].mean()\n",
    "\n",
    "# renomeando os labels\n",
    "data.waterfront = data.waterfront.apply( lambda x: 'yes' if x == 1 else 'no')\n",
    "\n",
    "# diferença percentual\n",
    "difference_water = (mean_water_view - mean_no_water_view) / mean_no_water_view * 100\n",
    "print(f\"Imóveis com vista para o mar são  {difference_water:.2f}% mais caro que a média\")\n",
    "\n",
    "# plotando\n",
    "sns.barplot(data=data, x='waterfront', y='price', alpha=0.5);"
   ]
  },
  {
   "cell_type": "markdown",
   "id": "870fa9c1",
   "metadata": {},
   "source": [
    "### **H2: Imóveis com data de construção menor que 1955, são 50% mais baratos, na média.**\n",
    "> \n",
    ">  Falso, imóveis com data de construção anterior a 1955 são em média 0.62% mais baratos."
   ]
  },
  {
   "cell_type": "code",
   "execution_count": 17,
   "id": "e1f4b368",
   "metadata": {},
   "outputs": [
    {
     "name": "stdout",
     "output_type": "stream",
     "text": [
      " Imóveis construidos antes de 1955 são 0.62% mais baratos \n"
     ]
    },
    {
     "data": {
      "image/png": "[encoded data removed]",
      "text/plain": [
       "<Figure size 432x288 with 1 Axes>"
      ]
     },
     "metadata": {
      "needs_background": "light"
     },
     "output_type": "display_data"
    }
   ],
   "source": [
    "# media antes e depois do 1995 e diferença percentual\n",
    "mean_price_before = data.loc[ (data['yr_built'] < 1955), 'price' ].mean()\n",
    "mean_price_after = data.loc[ (data['yr_built'] >= 1955), 'price'].mean()\n",
    "difference_price = round( (mean_price_after - mean_price_before) /  mean_price_after * 100 , 2 ) \n",
    "\n",
    "\n",
    "# criando umdataset apenas com as colunas necessárias\n",
    "data_aux =  data[['id', 'price', 'yr_built']].copy()\n",
    "\n",
    "# aplicando os labels \n",
    "data_aux['old_built'] = data.yr_built.apply( lambda x: '<1955' if (x < 1955)\n",
    "                                                               else '>=1955'\n",
    "                                           )\n",
    "print(f\" Imóveis construidos antes de 1955 são {difference_price}% mais baratos \")\n",
    "\n",
    "# plotando\n",
    "sns.barplot(data=data_aux, x=data_aux.old_built, y=data_aux.price, alpha=0.5);"
   ]
  },
  {
   "cell_type": "markdown",
   "id": "345b6602",
   "metadata": {},
   "source": [
    "### **H3: Imóveis sem porão possuem área total (srqf_lot) 40% maiores do que os imóveis com porão.****\n",
    "> \n",
    "> Falso, na verdade, imóveis sem porão são **apenas 18% maiores** do que imóveis com porão."
   ]
  },
  {
   "cell_type": "code",
   "execution_count": 18,
   "id": "f52fb4d0",
   "metadata": {},
   "outputs": [
    {
     "name": "stdout",
     "output_type": "stream",
     "text": [
      "Imóveis sem porão são certa de 18.56% maiores que imóveis com porão\n"
     ]
    },
    {
     "data": {
      "image/png": "[encoded data removed]",
      "text/plain": [
       "<Figure size 432x288 with 1 Axes>"
      ]
     },
     "metadata": {
      "needs_background": "light"
     },
     "output_type": "display_data"
    }
   ],
   "source": [
    "# média do tamanho total de imóveis com e sem porão\n",
    "basement_sqft_mean = data.loc[ data.sqft_basement != 0, 'sqft_lot'].mean() \n",
    "no_basement_sqft_mean = data.loc[ data.sqft_basement == 0, 'sqft_lot'].mean() \n",
    "\n",
    "# diferença percentual\n",
    "difference_basement = (no_basement_sqft_mean - basement_sqft_mean)/ no_basement_sqft_mean * 100\n",
    "print(f\"Imóveis sem porão são certa de {difference_basement:.2f}% maiores que imóveis com porão\")\n",
    "\n",
    "# plotando\n",
    "sns.barplot(x=['No Basement', 'Basement'], y=[no_basement_sqft_mean, basement_sqft_mean], alpha=0.5);"
   ]
  },
  {
   "cell_type": "markdown",
   "id": "d4b351b5",
   "metadata": {},
   "source": [
    "### **H4: O crescimento do preço dos imóveis YoY (Year over Year- Ano a Ano) é de 10%**\n",
    ">\n",
    "> Falso, o crescimento do preço dos imóveis YoY é inferior a 1%\n"
   ]
  },
  {
   "cell_type": "code",
   "execution_count": 19,
   "id": "ca861ebe",
   "metadata": {},
   "outputs": [
    {
     "name": "stdout",
     "output_type": "stream",
     "text": [
      "O crescimento YoY é de 0.70%.\n"
     ]
    },
    {
     "data": {
      "image/png": "[encoded data removed]",
      "text/plain": [
       "<Figure size 864x432 with 1 Axes>"
      ]
     },
     "metadata": {
      "needs_background": "light"
     },
     "output_type": "display_data"
    }
   ],
   "source": [
    "# Criando uma coluna por ano \n",
    "data['year'] = data.date.dt.year\n",
    "\n",
    "# agrupando a média de preço por ano\n",
    "var_YoY = data[['year', 'price']].groupby('year').mean().reset_index()\n",
    "\n",
    "# Calculando a variação percentual \n",
    "var_YoY['var'] = var_YoY['price'].rolling(window=2).apply( lambda x: (x.iloc[1] / x.iloc[0] -1) * 100 )\n",
    "print(f\"O crescimento YoY é de {abs(var_YoY['var'][1]):.2f}%.\")\n",
    "\n",
    "# plotando\n",
    "fig, ax1 = plt.subplots(figsize=(12,6))\n",
    "sns.barplot(data = var_YoY, x='year', y='price', alpha=0.5);"
   ]
  },
  {
   "cell_type": "markdown",
   "id": "583aa72c",
   "metadata": {},
   "source": [
    "### **H5: Imóveis com 3 banheiros tem um crescimento de MoM( Month over Month) de 15%**\n",
    ">\n",
    "> Falso,a variação MoM é de apenas 0.29%\n",
    "\n"
   ]
  },
  {
   "cell_type": "code",
   "execution_count": 20,
   "id": "739b713b",
   "metadata": {},
   "outputs": [
    {
     "name": "stdout",
     "output_type": "stream",
     "text": [
      "Imóveis com 3 banheiros tem um crescimento MoM de 0.29% na média.\n"
     ]
    },
    {
     "data": {
      "image/png": "[encoded data removed]",
      "text/plain": [
       "<Figure size 864x432 with 1 Axes>"
      ]
     },
     "metadata": {
      "needs_background": "light"
     },
     "output_type": "display_data"
    }
   ],
   "source": [
    "# criando uma coluna por ano e mês\n",
    "data['year_month'] = data.date.dt.strftime(\"%Y-%m\")\n",
    "\n",
    "# agrupando os dados \n",
    "var_MoM = data.loc[data['bathrooms'] == 3, ['year_month', 'price']].groupby('year_month').mean().reset_index()\n",
    "\n",
    "# criando uma nova coluna usando uma janela flutuante com dois espaços\n",
    "var_MoM['var'] = var_MoM['price'].rolling(window=2).apply( lambda x: ( x.iloc[1] / x.iloc[0] -1) * 100 )\n",
    "print(f\"Imóveis com 3 banheiros tem um crescimento MoM de {var_MoM['var'].mean():.2f}% na média.\")\n",
    "\n",
    "\n",
    "# plotando\n",
    "# ax1 = sns.set_style(style=None, rc=None )\n",
    "fig, ax1 = plt.subplots(figsize=(12,6))\n",
    "sns.barplot(data = var_MoM, x='year_month', y='price', alpha=0.5, ax=ax1);\n",
    "\n",
    "# sns.lineplot(data = var_MoM['var'], marker='o',color='red', sort = False, ax=ax1)\n",
    "# ax2 = ax1.twinx()\n"
   ]
  },
  {
   "cell_type": "markdown",
   "id": "59e83c17",
   "metadata": {},
   "source": [
    "### **H6: Inverno é a estação do ano em que a média de vendas é maior**\n",
    ">\n",
    "> Falso, as estações do ano em que a média de vendas são maiores, são respectivcamente, Primevera e Verão.\n",
    "\n"
   ]
  },
  {
   "cell_type": "code",
   "execution_count": 21,
   "id": "15b452b8",
   "metadata": {},
   "outputs": [
    {
     "data": {
      "image/png": "[encoded data removed]",
      "text/plain": [
       "<Figure size 432x288 with 1 Axes>"
      ]
     },
     "metadata": {
      "needs_background": "light"
     },
     "output_type": "display_data"
    }
   ],
   "source": [
    "# agrupando os dados por preço e temporada e ordenando de maneira crescente\n",
    "by_season = data[['price', 'season']].groupby('season').mean().reset_index().sort_values(by='price', ascending= False)\n",
    "\n",
    "# plotando\n",
    "sns.barplot(data=by_season, x='season', y='price', alpha=0.5);"
   ]
  },
  {
   "cell_type": "markdown",
   "id": "d8f6bbbe",
   "metadata": {},
   "source": [
    "### **H7: Imóveis não reformados são 10% mais baratos do que a média dos imóveis reformados por região.**\n",
    ">\n",
    "> Falso, porém, imóveis não reformados são até 17% mais baratos."
   ]
  },
  {
   "cell_type": "code",
   "execution_count": 22,
   "id": "841e81cb",
   "metadata": {},
   "outputs": [
    {
     "name": "stdout",
     "output_type": "stream",
     "text": [
      "Imóveis nunca reformados são em média, 17.25% mais baratos que a média dos imóveis não reformados, por região.\n"
     ]
    },
    {
     "data": {
      "image/png": "[encoded data removed]",
      "text/plain": [
       "<Figure size 432x288 with 1 Axes>"
      ]
     },
     "metadata": {
      "needs_background": "light"
     },
     "output_type": "display_data"
    }
   ],
   "source": [
    "# Imóveis nunca reformados\n",
    "no_renovated = data.loc[ data.yr_renovated == 0, ['zipcode', 'price']].groupby('zipcode').mean().reset_index()\n",
    "no_renovated.columns = [ 'zipcode', 'mean_price_no_renovated']\n",
    "\n",
    "# imóveis já reformados\n",
    "renovated = data.loc[ data.yr_renovated != 0, ['zipcode', 'price']].groupby('zipcode').mean().reset_index()\n",
    "renovated.columns = [ 'zipcode', 'mean_price_renovated']\n",
    "\n",
    "# juntando os dataframes\n",
    "is_renovated = pd.merge(no_renovated, renovated, how='left', on='zipcode')\n",
    "\n",
    "dif = (is_renovated.mean_price_renovated.mean() / is_renovated.mean_price_no_renovated.mean() -1)*100\n",
    "\n",
    "print(f\"Imóveis nunca reformados são em média, {dif:.2f}% mais baratos que a média dos imóveis não reformados, por região.\")\n",
    "\n",
    "sns.barplot(x=['Never Renovated', 'Renovated'], y=[is_renovated.mean_price_no_renovated.mean(), is_renovated.mean_price_renovated.mean()], alpha=0.5);"
   ]
  },
  {
   "cell_type": "markdown",
   "id": "6c1cf4bf",
   "metadata": {},
   "source": [
    "### H8: Imóveis com 3 banheiros ou mais são 20% mais caros do que imóveis com menos que 3 banheiros\n",
    ">\n",
    "> Falso, são na verdade 105% mais caros.\n",
    "\n"
   ]
  },
  {
   "cell_type": "code",
   "execution_count": 23,
   "id": "1d3df3d8",
   "metadata": {},
   "outputs": [
    {
     "name": "stdout",
     "output_type": "stream",
     "text": [
      "Imóveis com 3 ou mais banheiros são 105.64% mais caros\n"
     ]
    },
    {
     "data": {
      "image/png": "[encoded data removed]",
      "text/plain": [
       "<Figure size 864x432 with 1 Axes>"
      ]
     },
     "metadata": {
      "needs_background": "light"
     },
     "output_type": "display_data"
    }
   ],
   "source": [
    "# agrupando os dados\n",
    "\n",
    "bathrooms = data[['bathrooms', 'price']].copy()\n",
    "bathrooms['quantidade_banheiros'] =  data.bathrooms.apply( lambda x: 'Mais que 3 banheiros' if x>=3 else 'Menos que 3 banheiros')\n",
    "\n",
    "\n",
    "bathrooms_agrupados = bathrooms[['quantidade_banheiros', 'price']].groupby('quantidade_banheiros').mean().reset_index()\n",
    "\n",
    "dif_bathrooms = ( bathrooms_agrupados.price[0] / bathrooms_agrupados.price[1] - 1 ) * 100\n",
    "\n",
    "print(f\"Imóveis com 3 ou mais banheiros são {dif_bathrooms:.2f}% mais caros\")\n",
    "\n",
    "fig, ax1 = plt.subplots(figsize=(12,6))\n",
    "sns.barplot(data=bathrooms, x='quantidade_banheiros', y='price', alpha=0.5);"
   ]
  },
  {
   "cell_type": "markdown",
   "id": "3cc96855",
   "metadata": {},
   "source": [
    "### H9: Imóveis com 3 quartos ou mais são 40% mais caros do que imóveis com menos que 3 quartos\n",
    ">\n",
    "> \n",
    "\n"
   ]
  },
  {
   "cell_type": "code",
   "execution_count": 24,
   "id": "3591acc2",
   "metadata": {},
   "outputs": [],
   "source": [
    "# bedrooms =  data[['bedrooms', 'price']].copy()\n",
    "# bedrooms['quantidade_quartos'] = data.bedrooms.apply( lambda x: 'Mais que 3 quartos' if x >=3 else 'Menos que 3 quartos')\n",
    "\n",
    "# sns.barplot(data=bedrooms, x='quantidade_quartos', y='price', alpha=0.5);"
   ]
  },
  {
   "cell_type": "code",
   "execution_count": 25,
   "id": "6ff9f64e",
   "metadata": {},
   "outputs": [
    {
     "name": "stdout",
     "output_type": "stream",
     "text": [
      "42.52%\n"
     ]
    },
    {
     "data": {
      "image/png": "[encoded data removed]",
      "text/plain": [
       "<Figure size 432x288 with 1 Axes>"
      ]
     },
     "metadata": {
      "needs_background": "light"
     },
     "output_type": "display_data"
    }
   ],
   "source": [
    "bedrooms =  data[['bedrooms', 'price']].copy()\n",
    "bedrooms['quantidade_quartos'] = data.bedrooms.apply( lambda x: 'Mais que 3 quartos' if x >=3 else 'Menos que 3 quartos')\n",
    "\n",
    "aux = bedrooms[['price', 'quantidade_quartos']].groupby('quantidade_quartos').mean().reset_index()\n",
    "print(f\"{(aux.price[0] / aux.price[1] - 1) * 100:.2f}%\")\n",
    "\n",
    "sns.barplot(data=aux, x='quantidade_quartos', y='price', alpha=0.5);"
   ]
  }
 ],
 "metadata": {
  "kernelspec": {
   "display_name": "Python 3 (ipykernel)",
   "language": "python",
   "name": "python3"
  },
  "language_info": {
   "codemirror_mode": {
    "name": "ipython",
    "version": 3
   },
   "file_extension": ".py",
   "mimetype": "text/x-python",
   "name": "python",
   "nbconvert_exporter": "python",
   "pygments_lexer": "ipython3",
   "version": "3.8.10"
  }
 },
 "nbformat": 4,
 "nbformat_minor": 5
}
